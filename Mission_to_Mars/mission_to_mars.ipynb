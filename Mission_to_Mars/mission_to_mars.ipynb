{
 "cells": [
  {
   "cell_type": "code",
   "execution_count": 1,
   "metadata": {},
   "outputs": [],
   "source": [
    "# --- dependencies and setup ---\n",
    "from bs4 import BeautifulSoup\n",
    "import pandas as pd\n",
    "from splinter import Browser\n",
    "import time\n",
    "import re"
   ]
  },
  {
   "cell_type": "code",
   "execution_count": 2,
   "metadata": {},
   "outputs": [],
   "source": [
    "# --- urls for scraping ---\n",
    "MarsNews_url = 'https://mars.nasa.gov/news/'\n",
    "JPLimage_url = 'https://www.jpl.nasa.gov/spaceimages/?search=&category=Mars'\n",
    "MarsWeather_url = 'https://twitter.com/marswxreport'\n",
    "MarsFacts_url = 'https://space-facts.com/mars/'\n",
    "MarsHemImage_url = 'https://astrogeology.usgs.gov/search/results?q=hemisphere+enhanced&k1=target&v1=Mars'\n",
    "\n",
    "# --- create a browser instance using splinter ---\n",
    "executable_path = {'executable_path': '/usr/local/bin/chromedriver'}\n",
    "browser = Browser('chrome', **executable_path, headless=False)"
   ]
  },
  {
   "cell_type": "markdown",
   "metadata": {},
   "source": [
    "## Scraping Mars News\n",
    "- save the latest news title \n",
    "- save the latest news paragraph"
   ]
  },
  {
   "cell_type": "code",
   "execution_count": 5,
   "metadata": {},
   "outputs": [
    {
     "name": "stdout",
     "output_type": "stream",
     "text": [
      "NASA's MAVEN Observes Martian Night Sky Pulsing in Ultraviolet Light\n",
      "Vast areas of the Martian night sky pulse in ultraviolet light, according to images from NASA’s MAVEN spacecraft. The results are being used to illuminate complex circulation patterns in the Martian atmosphere.\n"
     ]
    }
   ],
   "source": [
    "# --- visit the Mars News url ---\n",
    "browser.visit(MarsNews_url)\n",
    "time.sleep(1)\n",
    "\n",
    "# --- create HTML object ---\n",
    "html = browser.html\n",
    "\n",
    "# --- parse HTML with BeautifulSoup ---\n",
    "soup = BeautifulSoup(html, 'html.parser')\n",
    "\n",
    "# --- get the first <li> item under <ul> list of headlines: this contains the latest news title and paragraph text ---\n",
    "first_li = soup.find('li', class_='slide')\n",
    "\n",
    "# --- save the news title under the <div> tag with a class of 'content_title' ---\n",
    "news_title = first_li.find('div', class_='content_title').text\n",
    "print(news_title)\n",
    "\n",
    "# --- save the paragraph text under the <div> tag with a class of 'article_teaser_body' ---\n",
    "news_para = first_li.find('div', class_='article_teaser_body').text\n",
    "print(news_para)"
   ]
  },
  {
   "cell_type": "markdown",
   "metadata": {},
   "source": [
    "## Scraping JPL Featured Image URL\n",
    "- save the current Featured Mars Image url and title"
   ]
  },
  {
   "cell_type": "code",
   "execution_count": 3,
   "metadata": {},
   "outputs": [],
   "source": [
    "# --- visit the JPL Featured Space Image website ---\n",
    "browser.visit(JPLimage_url)\n",
    "time.sleep(1)\n",
    "\n",
    "# --- create HTML object ---\n",
    "html = browser.html\n",
    "\n",
    "# --- parse HTML with BeautifulSoup ---\n",
    "soup = BeautifulSoup(html, 'html.parser')\n"
   ]
  },
  {
   "cell_type": "code",
   "execution_count": 7,
   "metadata": {},
   "outputs": [
    {
     "name": "stdout",
     "output_type": "stream",
     "text": [
      "https://photojournal.jpl.nasa.gov/jpeg/PIA18328.jpg\n",
      "Dark Side of the Moon: Enceladus\n"
     ]
    }
   ],
   "source": [
    "# --- get the <div> with a class of 'carousel_container': this contains the current featured image details ---\n",
    "carousel = soup.find('div', class_='carousel_container')\n",
    "\n",
    "# --- get the image title found under the <a> tag ---\n",
    "featuredimage_title = carousel.find('a')['data-title']\n",
    "\n",
    "# --- use splinter to click on the 'full image' button to retrieve a full-size jpg url ---\n",
    "browser.find_by_id('full_image').click()\n",
    "time.sleep(1)\n",
    "\n",
    "# --- check if the div with the 'more info' button is visible to proceed to the download page. If false: ---\n",
    "if browser.is_element_visible_by_css('div.fancybox-title') == False:\n",
    "    \n",
    "    # --- create the base url for the image from the carousel container ---\n",
    "    base_url = 'https://www.jpl.nasa.gov/'\n",
    "    \n",
    "    # --- get the image url found under the <a> tag in the carousel ---\n",
    "    image_url = carousel.find('a')['data-fancybox-href']\n",
    "    \n",
    "    # --- complete the featured image url by adding the base url ---\n",
    "    featuredimage_url = base_url + image_url\n",
    "\n",
    "# --- if the div is visible and there is a 'more info' button to proceed --- \n",
    "else:\n",
    "    \n",
    "    # --- create the base url for the fullsize image download link ---\n",
    "    base_url = 'https:'\n",
    "    \n",
    "    # --- click the 'more info' button to go to the image detail page ---\n",
    "    browser.links.find_by_partial_text('more info').click()\n",
    "    time.sleep(1)\n",
    "    \n",
    "    # --- create a beautiful soup object with the image detail page's html ---\n",
    "    img_detail_html = browser.html\n",
    "    imagesoup = BeautifulSoup(img_detail_html, 'html.parser')\n",
    "    \n",
    "    # --- find the fullsize jpg image link and store the url ---\n",
    "    download_div = imagesoup.find_all('div', class_='download_tiff')[1]\n",
    "    fullsize_img = download_div.find('a')['href']\n",
    "\n",
    "    # --- complete the featured image url by adding the base url ---\n",
    "    featuredimage_url = base_url + fullsize_img\n",
    "\n",
    "print(featuredimage_url)\n",
    "print(featuredimage_title)\n"
   ]
  },
  {
   "cell_type": "markdown",
   "metadata": {},
   "source": [
    "## Scraping Mars Weather\n",
    "- Scrape the latest Mars weather tweet "
   ]
  },
  {
   "cell_type": "code",
   "execution_count": 5,
   "metadata": {},
   "outputs": [],
   "source": [
    "# --- visit the Mars Weather twitter account ---\n",
    "browser.visit(MarsWeather_url)\n",
    "time.sleep(1)\n",
    "\n",
    "# --- create HTML object ---\n",
    "#html = browser.html\n",
    "\n",
    "# --- parse HTML with BeautifulSoup ---\n",
    "#soup = BeautifulSoup(html, 'html.parser')\n",
    "\n",
    "#pattern = re.compile(r\"sol\")\n",
    "#sol = soup.find('span', text=pattern)\n",
    "#sol"
   ]
  },
  {
   "cell_type": "code",
   "execution_count": 7,
   "metadata": {},
   "outputs": [
    {
     "data": {
      "text/plain": [
       "'InSight sol 605 (2020-08-09) low -92.7ºC (-134.8ºF) high -18.4ºC (-1.1ºF)winds from the WNW at 8.8 m/s (19.7 mph) gusting to 22.5 m/s (50.4 mph)pressure at 7.90 hPa'"
      ]
     },
     "execution_count": 7,
     "metadata": {},
     "output_type": "execute_result"
    }
   ],
   "source": [
    "# --- get a list of all <span> tags ---\n",
    "all_spans = browser.find_by_css('span')\n",
    "\n",
    "# --- checking to find index for the first tweet (stored in <span> tag) - it is at index 48 ---\n",
    "#for span in range(len(all_spans)):\n",
    "#    print(span, all_spans[span].value)\n",
    "\n",
    "# --- save the latest tweet (at index 48 of the span element list) in a variable ---\n",
    "latest_tweet = all_spans[48].value\n",
    "\n",
    "# --- clean up the tweet (remove newline) ---\n",
    "latest_tweet.replace('\\n', '')"
   ]
  },
  {
   "cell_type": "markdown",
   "metadata": {},
   "source": [
    "## Scraping Mars Facts\n",
    "- Scrape the table containing facts about the planet including Diameter, Mass, etc.\n",
    "- Use Pandas to convert the data to a HTML table string."
   ]
  },
  {
   "cell_type": "code",
   "execution_count": 9,
   "metadata": {},
   "outputs": [
    {
     "data": {
      "text/html": [
       "<div>\n",
       "<style scoped>\n",
       "    .dataframe tbody tr th:only-of-type {\n",
       "        vertical-align: middle;\n",
       "    }\n",
       "\n",
       "    .dataframe tbody tr th {\n",
       "        vertical-align: top;\n",
       "    }\n",
       "\n",
       "    .dataframe thead th {\n",
       "        text-align: right;\n",
       "    }\n",
       "</style>\n",
       "<table border=\"1\" class=\"dataframe\">\n",
       "  <thead>\n",
       "    <tr style=\"text-align: right;\">\n",
       "      <th></th>\n",
       "      <th>Description</th>\n",
       "      <th>Value</th>\n",
       "    </tr>\n",
       "  </thead>\n",
       "  <tbody>\n",
       "    <tr>\n",
       "      <th>0</th>\n",
       "      <td>Equatorial Diameter:</td>\n",
       "      <td>6,792 km</td>\n",
       "    </tr>\n",
       "    <tr>\n",
       "      <th>1</th>\n",
       "      <td>Polar Diameter:</td>\n",
       "      <td>6,752 km</td>\n",
       "    </tr>\n",
       "    <tr>\n",
       "      <th>2</th>\n",
       "      <td>Mass:</td>\n",
       "      <td>6.39 × 10^23 kg (0.11 Earths)</td>\n",
       "    </tr>\n",
       "    <tr>\n",
       "      <th>3</th>\n",
       "      <td>Moons:</td>\n",
       "      <td>2 (Phobos &amp; Deimos)</td>\n",
       "    </tr>\n",
       "    <tr>\n",
       "      <th>4</th>\n",
       "      <td>Orbit Distance:</td>\n",
       "      <td>227,943,824 km (1.38 AU)</td>\n",
       "    </tr>\n",
       "    <tr>\n",
       "      <th>5</th>\n",
       "      <td>Orbit Period:</td>\n",
       "      <td>687 days (1.9 years)</td>\n",
       "    </tr>\n",
       "    <tr>\n",
       "      <th>6</th>\n",
       "      <td>Surface Temperature:</td>\n",
       "      <td>-87 to -5 °C</td>\n",
       "    </tr>\n",
       "    <tr>\n",
       "      <th>7</th>\n",
       "      <td>First Record:</td>\n",
       "      <td>2nd millennium BC</td>\n",
       "    </tr>\n",
       "    <tr>\n",
       "      <th>8</th>\n",
       "      <td>Recorded By:</td>\n",
       "      <td>Egyptian astronomers</td>\n",
       "    </tr>\n",
       "  </tbody>\n",
       "</table>\n",
       "</div>"
      ],
      "text/plain": [
       "            Description                          Value\n",
       "0  Equatorial Diameter:                       6,792 km\n",
       "1       Polar Diameter:                       6,752 km\n",
       "2                 Mass:  6.39 × 10^23 kg (0.11 Earths)\n",
       "3                Moons:            2 (Phobos & Deimos)\n",
       "4       Orbit Distance:       227,943,824 km (1.38 AU)\n",
       "5         Orbit Period:           687 days (1.9 years)\n",
       "6  Surface Temperature:                   -87 to -5 °C\n",
       "7         First Record:              2nd millennium BC\n",
       "8          Recorded By:           Egyptian astronomers"
      ]
     },
     "execution_count": 9,
     "metadata": {},
     "output_type": "execute_result"
    }
   ],
   "source": [
    "# --- visit the Mars Facts website ---\n",
    "browser.visit(MarsFacts_url)\n",
    "time.sleep(1)\n",
    "\n",
    "# --- create HTML object ---\n",
    "html = browser.html\n",
    "\n",
    "# --- use Pandas to scrape table of facts ---\n",
    "table = pd.read_html(html)\n",
    "\n",
    "# --- use indexing to slice the table to a dataframe ---\n",
    "facts_df = table[0]\n",
    "facts_df.columns =['Description', 'Value']\n",
    "facts_df"
   ]
  },
  {
   "cell_type": "code",
   "execution_count": 11,
   "metadata": {},
   "outputs": [],
   "source": [
    "# --- convert the dataframe to a HTML table and save to html file ---\n",
    "facts_df.to_html('marsfacts.html', index=False)"
   ]
  },
  {
   "cell_type": "markdown",
   "metadata": {},
   "source": [
    "## Scraping Mars Hemisphere images\n",
    "- Find and save the image url and title of the full resolution image for each of Mar's hemispheres in a Python dictionary\n",
    "- Append the dictionary with the image url string and the hemisphere title to a list. This list will contain one dictionary for each hemisphere."
   ]
  },
  {
   "cell_type": "code",
   "execution_count": 3,
   "metadata": {},
   "outputs": [],
   "source": [
    "# --- visit the Mars Hemisphere website ---\n",
    "\n",
    "browser.visit(MarsHemImage_url)\n",
    "time.sleep(1)\n",
    "\n",
    "# --- create HTML object ---\n",
    "html = browser.html\n",
    "\n",
    "# --- parse HTML with BeautifulSoup ---\n",
    "soup = BeautifulSoup(html, 'html.parser')\n"
   ]
  },
  {
   "cell_type": "code",
   "execution_count": 11,
   "metadata": {},
   "outputs": [
    {
     "name": "stdout",
     "output_type": "stream",
     "text": [
      "https://astrogeology.usgs.gov/cache/images/f5e372a36edfa389625da6d0cc25d905_cerberus_enhanced.tif_full.jpg\n"
     ]
    }
   ],
   "source": [
    "browser.find_by_css(\"a.product-item h3\")[0].click()\n",
    "time.sleep(1)\n",
    "\n",
    "# --- create a beautiful soup object with the image detail page's html ---\n",
    "img_detail_html = browser.html\n",
    "imagesoup = BeautifulSoup(img_detail_html, 'html.parser')\n",
    "    \n",
    "# --- retrieve the full-res image url and save into a variable ---\n",
    "base_url = 'https://astrogeology.usgs.gov'\n",
    "hem_url = imagesoup.find('img', class_=\"wide-image\")['src']\n",
    "img_url = base_url + hem_url\n",
    "print(img_url)\n",
    "\n",
    "browser.back()"
   ]
  },
  {
   "cell_type": "code",
   "execution_count": 4,
   "metadata": {},
   "outputs": [
    {
     "data": {
      "text/plain": [
       "[{'title': 'Cerberus Hemisphere Enhanced',\n",
       "  'img_url': 'https://astrogeology.usgs.gov/cache/images/f5e372a36edfa389625da6d0cc25d905_cerberus_enhanced.tif_full.jpg'},\n",
       " {'title': 'Schiaparelli Hemisphere Enhanced',\n",
       "  'img_url': 'https://astrogeology.usgs.gov/cache/images/3778f7b43bbbc89d6e3cfabb3613ba93_schiaparelli_enhanced.tif_full.jpg'},\n",
       " {'title': 'Syrtis Major Hemisphere Enhanced',\n",
       "  'img_url': 'https://astrogeology.usgs.gov/cache/images/555e6403a6ddd7ba16ddb0e471cadcf7_syrtis_major_enhanced.tif_full.jpg'},\n",
       " {'title': 'Valles Marineris Hemisphere Enhanced',\n",
       "  'img_url': 'https://astrogeology.usgs.gov/cache/images/b3c7c6c9138f57b4756be9b9c43e3a48_valles_marineris_enhanced.tif_full.jpg'}]"
      ]
     },
     "execution_count": 4,
     "metadata": {},
     "output_type": "execute_result"
    }
   ],
   "source": [
    "# --- retrieve all the parent div tags for each hemisphere --- \n",
    "hemisphere_divs = soup.find_all('div', class_=\"item\")\n",
    "\n",
    "# --- create an empty list to store the python dictionary ---\n",
    "hemisphere_image_data = []\n",
    "\n",
    "# --- loop through each div item to get hemisphere data ---\n",
    "for hemisphere in range(len(hemisphere_divs)):\n",
    "\n",
    "    # --- use splinter's browser to click on each hemisphere's link in order to retrieve image data ---\n",
    "    hem_link = browser.find_by_css(\"a.product-item h3\")\n",
    "    hem_link[hemisphere].click()\n",
    "    time.sleep(1)\n",
    "    \n",
    "    # --- create a beautiful soup object with the image detail page's html ---\n",
    "    img_detail_html = browser.html\n",
    "    imagesoup = BeautifulSoup(img_detail_html, 'html.parser')\n",
    "    \n",
    "    # --- create the base url for the fullsize image link ---\n",
    "    base_url = 'https://astrogeology.usgs.gov'\n",
    "    \n",
    "    # --- retrieve the full-res image url and save into a variable ---\n",
    "    hem_url = imagesoup.find('img', class_=\"wide-image\")['src']\n",
    "    \n",
    "    # --- complete the featured image url by adding the base url ---\n",
    "    img_url = base_url + hem_url\n",
    "\n",
    "    # --- retrieve the image title using the title class and save into variable ---\n",
    "    img_title = browser.find_by_css('.title').text\n",
    "    \n",
    "    # --- add the key value pairs to python dictionary and append to the list ---\n",
    "    hemisphere_image_data.append({\"title\": img_title,\n",
    "                              \"img_url\": img_url})\n",
    "    \n",
    "    # --- go back to the main page ---\n",
    "    browser.back()\n",
    "\n",
    "hemisphere_image_data"
   ]
  },
  {
   "cell_type": "code",
   "execution_count": null,
   "metadata": {},
   "outputs": [],
   "source": []
  }
 ],
 "metadata": {
  "kernelspec": {
   "display_name": "Python 3",
   "language": "python",
   "name": "python3"
  },
  "language_info": {
   "codemirror_mode": {
    "name": "ipython",
    "version": 3
   },
   "file_extension": ".py",
   "mimetype": "text/x-python",
   "name": "python",
   "nbconvert_exporter": "python",
   "pygments_lexer": "ipython3",
   "version": "3.7.6"
  }
 },
 "nbformat": 4,
 "nbformat_minor": 4
}
